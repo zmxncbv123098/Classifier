{
 "cells": [
  {
   "cell_type": "code",
   "execution_count": 1,
   "metadata": {},
   "outputs": [
    {
     "name": "stdout",
     "output_type": "stream",
     "text": [
      "Setup complete!\n"
     ]
    }
   ],
   "source": [
    "from pycocotools.coco import COCO\n",
    "import os\n",
    "import numpy as np\n",
    "import skimage.io as io\n",
    "import matplotlib.pyplot as plt\n",
    "import pylab\n",
    "import requests\n",
    "import torch\n",
    "pylab.rcParams['figure.figsize'] = (8.0, 10.0)\n",
    "print(\"Setup complete!\")"
   ]
  },
  {
   "cell_type": "code",
   "execution_count": 2,
   "metadata": {},
   "outputs": [],
   "source": [
    "folder = 'annotations/'\n",
    "filename = 'instances_train2017.json'\n",
    "annFile = os.path.join(folder, filename)"
   ]
  },
  {
   "cell_type": "code",
   "execution_count": 3,
   "metadata": {},
   "outputs": [
    {
     "name": "stdout",
     "output_type": "stream",
     "text": [
      "loading annotations into memory...\n",
      "Done (t=16.81s)\n",
      "creating index...\n",
      "index created!\n"
     ]
    }
   ],
   "source": [
    "coco = COCO(annFile)"
   ]
  },
  {
   "cell_type": "code",
   "execution_count": 4,
   "metadata": {},
   "outputs": [
    {
     "name": "stdout",
     "output_type": "stream",
     "text": [
      "bird cat dog horse sheep cow elephant bear zebra giraffe\n"
     ]
    }
   ],
   "source": [
    "cats = coco.loadCats(coco.getCatIds())\n",
    "nms = []\n",
    "for cat in cats:\n",
    "    if cat['supercategory'] == 'animal':\n",
    "        nms.append(cat['name'])\n",
    "        \n",
    "print(\" \".join(nms))"
   ]
  },
  {
   "cell_type": "code",
   "execution_count": 5,
   "metadata": {},
   "outputs": [
    {
     "name": "stdout",
     "output_type": "stream",
     "text": [
      "143\n",
      "{'segmentation': [[456.99, 313.98, 448.39, 303.23, 439.78, 284.95, 426.88, 255.91, 426.88, 233.33, 429.03, 222.58, 429.03, 203.23, 433.33, 194.62, 460.22, 194.62, 481.72, 192.47, 503.23, 193.55, 516.13, 208.6, 530.11, 230.11, 535.48, 250.54, 547.31, 269.89, 551.61, 284.95, 552.69, 310.75, 544.09, 320.43, 558.06, 329.03, 546.24, 356.99, 535.48, 368.82, 510.75, 349.46, 479.57, 323.66, 470.97, 319.35]], 'area': 14943.291250000002, 'iscrowd': 0, 'image_id': 143, 'bbox': [426.88, 192.47, 131.18, 176.35], 'category_id': 16, 'id': 40595}\n",
      "{'segmentation': [[136.0, 184.62, 140.25, 158.38, 150.89, 141.35, 161.54, 132.84, 166.5, 120.07, 177.14, 112.97, 160.12, 117.23, 168.63, 106.59, 180.69, 104.46, 200.55, 106.59, 214.03, 120.07, 223.96, 119.36, 220.42, 121.49, 216.16, 127.16, 216.87, 199.52, 196.3, 227.9, 146.64, 191.72, 142.38, 178.95, 142.38, 178.95], [175.01, 237.12, 175.01, 237.12, 157.28, 257.69, 157.99, 247.76, 153.73, 269.05, 145.93, 269.05, 137.42, 271.88, 128.19, 269.05, 133.16, 260.53, 141.67, 241.38, 141.67, 241.38, 139.54, 222.22, 139.54, 222.22, 134.58, 246.34, 133.87, 212.29, 132.45, 198.81, 175.72, 234.99, 175.72, 234.99]], 'area': 8521.454350000002, 'iscrowd': 0, 'image_id': 143, 'bbox': [128.19, 104.46, 95.77, 167.42], 'category_id': 16, 'id': 41002}\n",
      "{'segmentation': [[318.28, 249.46, 289.25, 237.63, 265.59, 208.6, 266.67, 182.8, 276.34, 146.24, 293.55, 126.88, 315.05, 127.96, 343.01, 143.01, 365.59, 184.95, 363.44, 216.13, 360.15, 288.5, 342.54, 289.65, 315.05, 250.54]], 'area': 10935.490899999999, 'iscrowd': 0, 'image_id': 143, 'bbox': [265.59, 126.88, 100.0, 162.77], 'category_id': 16, 'id': 41866}\n",
      "{'segmentation': [[306.03, 271.01, 318.97, 279.63, 332.97, 311.96, 340.52, 355.06, 330.82, 345.37, 334.05, 363.69, 326.51, 373.38, 302.8, 348.6, 273.71, 318.43, 250.0, 288.25, 264.01, 277.48, 281.25, 272.09, 296.34, 278.56, 304.96, 273.17], [243.53, 299.03, 244.61, 332.44, 256.47, 368.0, 276.94, 387.39, 284.48, 389.55, 304.96, 391.7, 322.2, 389.55, 304.96, 372.31, 272.63, 337.82, 250.0, 307.65, 247.84, 305.5]], 'area': 7312.689550000001, 'iscrowd': 0, 'image_id': 143, 'bbox': [243.53, 271.01, 96.99, 120.69], 'category_id': 16, 'id': 42434}\n",
      "{'segmentation': [[142.04, 325.74, 147.17, 319.22, 160.69, 322.95, 168.61, 328.54, 174.2, 353.7, 175.13, 358.36, 186.32, 354.64, 187.72, 342.52, 186.32, 334.6, 192.84, 333.67, 200.76, 356.5, 204.49, 371.88, 206.36, 385.39, 190.51, 407.76, 183.06, 416.15, 170.47, 442.25, 166.28, 453.9, 162.08, 447.38, 164.88, 425.01, 158.36, 461.82, 156.03, 480.47, 148.57, 477.67, 138.78, 468.35, 138.78, 452.5, 136.92, 422.68, 123.87, 402.64, 115.48, 381.67, 114.08, 359.76, 121.54, 345.32, 132.26, 331.8]], 'area': 8239.6429, 'iscrowd': 0, 'image_id': 143, 'bbox': [114.08, 319.22, 92.28, 161.25], 'category_id': 16, 'id': 42884}\n",
      "{'segmentation': [[95.51, 153.93, 57.3, 150.56, 68.54, 130.34, 59.55, 128.09, 48.31, 129.21, 37.08, 108.99, 35.96, 74.16, 46.07, 49.44, 48.31, 44.94, 67.42, 29.21, 94.38, 20.22, 112.36, 23.6, 124.72, 42.7, 129.21, 57.3, 129.21, 79.78, 123.6, 79.78, 131.46, 89.89, 128.09, 105.62, 117.98, 115.73, 110.11, 123.6, 103.37, 137.08, 103.37, 150.56]], 'area': 9398.8724, 'iscrowd': 0, 'image_id': 143, 'bbox': [35.96, 20.22, 95.5, 133.71], 'category_id': 16, 'id': 271928}\n",
      "{'segmentation': [[181.06, 237.43, 196.13, 243.7, 214.33, 263.79, 219.35, 271.95, 228.77, 319.03, 234.42, 352.92, 225.0, 338.48, 227.51, 371.75, 203.66, 339.74, 191.73, 333.46, 185.46, 333.46, 187.34, 355.43, 174.16, 356.69, 169.14, 329.7, 151.56, 317.77, 142.77, 314.0, 120.18, 297.06, 122.69, 279.48, 132.73, 274.46, 139.01, 270.69, 154.07, 266.3]], 'area': 7766.638000000003, 'iscrowd': 0, 'image_id': 143, 'bbox': [120.18, 237.43, 114.24, 134.32], 'category_id': 16, 'id': 1400279}\n",
      "{'segmentation': [[469.33, 368.21, 468.71, 390.39, 480.41, 408.86, 499.51, 424.26, 500.12, 427.96, 500.12, 443.97, 500.12, 463.68, 497.04, 474.15, 522.91, 475.38, 522.91, 461.83, 523.53, 440.28, 527.84, 419.95, 553.71, 393.47, 561.1, 370.68, 562.95, 350.97, 555.56, 334.95, 538.31, 367.6, 508.75, 347.27, 501.97, 353.43, 485.96, 358.36, 469.94, 362.05], [482.26, 323.87, 473.64, 341.73, 473.64, 349.74, 476.1, 352.81, 508.75, 341.73, 507.51, 336.8, 495.81, 327.56, 492.12, 320.79]], 'area': 7066.659650000002, 'iscrowd': 0, 'image_id': 143, 'bbox': [468.71, 320.79, 94.24, 154.59], 'category_id': 16, 'id': 1815195}\n"
     ]
    }
   ],
   "source": [
    "bird_imgs = list(sorted(os.listdir(os.path.join(\"category_imgs\", \"bird\"))))\n",
    "img_id = int(bird_imgs[0].split(\".\")[0])\n",
    "print(img_id)\n",
    "\n",
    "\n",
    "catIds = coco.getCatIds(catNms=['bird']);\n",
    "imgIds = coco.getImgIds(imgIds = [img_id])\n",
    "#img = coco.loadImgs(imgIds[0])\n",
    "annIds = coco.getAnnIds(imgIds=img_id, catIds=catIds, iscrowd = None)\n",
    "anns = coco.loadAnns(annIds)\n",
    "num_objs = len(anns)\n",
    "boxes = []\n",
    "for ann in anns:\n",
    "        # get bounding box coordinates for each mask\n",
    "    print(ann)"
   ]
  },
  {
   "cell_type": "code",
   "execution_count": 17,
   "metadata": {
    "scrolled": true
   },
   "outputs": [
    {
     "name": "stdout",
     "output_type": "stream",
     "text": [
      "bird\n",
      "3237\n",
      "cat\n",
      "4114\n",
      "dog\n",
      "4385\n",
      "horse\n",
      "2941\n",
      "sheep\n",
      "1529\n"
     ]
    }
   ],
   "source": [
    "for name in nms[0:5]:\n",
    "    print(name)\n",
    "    current = 0\n",
    "    catIds = coco.getCatIds(catNms=[name])\n",
    "    imgIds = coco.getImgIds(catIds=catIds )\n",
    "    img = coco.loadImgs(imgIds)\n",
    "    print(len(img))\n",
    "    path = \"./\" + name \n",
    "    try: \n",
    "        os.mkdir(path) \n",
    "    except OSError as error: \n",
    "        print(error)\n",
    "    \n",
    "    listLS = os.listdir(path)\n",
    "    for i in img:\n",
    "        if i['file_name'] not in listLS:\n",
    "            p = requests.get(i['coco_url'])\n",
    "            img_path = path + \"/\" + i['file_name']\n",
    "            current += 1\n",
    "            out = open(img_path, \"wb\")\n",
    "            out.write(p.content)\n",
    "            out.close()\n",
    "            if current % 100 == 0:\n",
    "                print(current)\n",
    "                "
   ]
  }
 ],
 "metadata": {
  "kernelspec": {
   "display_name": "Python 3",
   "language": "python",
   "name": "python3"
  },
  "language_info": {
   "codemirror_mode": {
    "name": "ipython",
    "version": 3
   },
   "file_extension": ".py",
   "mimetype": "text/x-python",
   "name": "python",
   "nbconvert_exporter": "python",
   "pygments_lexer": "ipython3",
   "version": "3.8.3"
  }
 },
 "nbformat": 4,
 "nbformat_minor": 4
}
